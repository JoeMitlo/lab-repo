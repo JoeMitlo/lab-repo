{
 "cells": [
  {
   "cell_type": "code",
   "execution_count": 7,
   "metadata": {},
   "outputs": [
    {
     "name": "stdin",
     "output_type": "stream",
     "text": [
      "Enter your name:  joe\n",
      "Enter your favorite number:  12\n"
     ]
    },
    {
     "name": "stdout",
     "output_type": "stream",
     "text": [
      "joe, I'm elated to tell you your favorite number is even (:\n"
     ]
    }
   ],
   "source": [
    "name = input(\"Enter your name: \")\n",
    "num = input(\"Enter your favorite number: \")\n",
    "num = int(num)\n",
    "num = num%2\n",
    "if num == 0:\n",
    "    print(name + \", I'm elated to tell you your favorite number is even (:\")\n",
    "elif num == 1:\n",
    "    print(name + \", i hate to tell you your favorite number is odd ):\")"
   ]
  },
  {
   "cell_type": "code",
   "execution_count": null,
   "metadata": {},
   "outputs": [],
   "source": []
  }
 ],
 "metadata": {
  "kernelspec": {
   "display_name": "Python 3",
   "language": "python",
   "name": "python3"
  },
  "language_info": {
   "codemirror_mode": {
    "name": "ipython",
    "version": 3
   },
   "file_extension": ".py",
   "mimetype": "text/x-python",
   "name": "python",
   "nbconvert_exporter": "python",
   "pygments_lexer": "ipython3",
   "version": "3.8.3"
  }
 },
 "nbformat": 4,
 "nbformat_minor": 4
}
